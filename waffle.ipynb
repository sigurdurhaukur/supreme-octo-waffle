{
 "cells": [
  {
   "cell_type": "code",
   "execution_count": null,
   "metadata": {},
   "outputs": [],
   "source": [
    "# install dependencies\n",
    "! pip install faiss-cpu\n",
    "! pip install gensim"
   ]
  },
  {
   "cell_type": "code",
   "execution_count": null,
   "metadata": {},
   "outputs": [],
   "source": [
    "# download word2vec model (2.5GB)\n",
    "\n",
    "! curl --remote-name-all https://repository.clarin.is/repository/xmlui/bitstream/handle/20.500.12537/209{/word2vec_models.zip}\n",
    "! unzip /work/word2vec_models.zip\n",
    "! unzip -j /work/word2vec_models.zip '*READ*'"
   ]
  },
  {
   "cell_type": "code",
   "execution_count": null,
   "metadata": {},
   "outputs": [],
   "source": [
    "from gensim.models import KeyedVectors\n",
    "vectors = KeyedVectors.load('/work/IGC_2021_lemmatized__350__13__9__5__0_05__1_vectors.kv')"
   ]
  },
  {
   "cell_type": "code",
   "execution_count": null,
   "metadata": {},
   "outputs": [],
   "source": [
    "xb = vectors.get_normed_vectors()\n",
    "xb.shape"
   ]
  },
  {
   "cell_type": "code",
   "execution_count": null,
   "metadata": {},
   "outputs": [],
   "source": [
    "import numpy as np\n",
    "xq = vectors.get_vector('reiður', norm=True)\n",
    "xq = np.reshape(xq, (1, -1)).astype('float32')\n",
    "\n",
    "xq.shape"
   ]
  },
  {
   "cell_type": "code",
   "execution_count": null,
   "metadata": {},
   "outputs": [],
   "source": [
    "import faiss\n",
    "\n",
    "nlist = 128  # number of cells/clusters to partition data into\n",
    "d = 350\n",
    "k = 4\n",
    "\n",
    "quantizer = faiss.IndexFlatIP(d)  # how the vectors will be stored/compared\n",
    "index = faiss.IndexIVFFlat(quantizer, d, nlist)\n"
   ]
  },
  {
   "cell_type": "code",
   "execution_count": null,
   "metadata": {},
   "outputs": [],
   "source": [
    "index.train(xb)  # we must train the index to cluster into cells\n",
    "\n",
    "# total words: 969714\n",
    "# stable at: 484857 or 969714 / 2\n",
    "index.add(xb[:484857])"
   ]
  },
  {
   "cell_type": "code",
   "execution_count": null,
   "metadata": {},
   "outputs": [],
   "source": [
    "index.nprobe = 8  # set how many of nearest cells to search\n",
    "D, I = index.search(xq, k)"
   ]
  },
  {
   "cell_type": "code",
   "execution_count": null,
   "metadata": {},
   "outputs": [],
   "source": [
    "# display results\n",
    "for _ in I:\n",
    "    for i in _:\n",
    "        if i > 0:\n",
    "            results = vectors.most_similar(positive=[vectors[i]], topn=1)\n",
    "            result_word = results[0]\n",
    "            print(result_word)"
   ]
  }
 ],
 "metadata": {
  "language_info": {
   "name": "python"
  },
  "orig_nbformat": 4
 },
 "nbformat": 4,
 "nbformat_minor": 2
}
